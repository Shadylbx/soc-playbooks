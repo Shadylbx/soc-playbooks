{
 "cells": [
  {
   "cell_type": "code",
   "execution_count": 1,
   "id": "440df1d5",
   "metadata": {},
   "outputs": [],
   "source": [
    "import requests\n",
    "from typing import Set\n",
    "\n",
    "# --- Global lists to be populated with threat intelligence ---\n",
    "KNOWN_BAD_DOMAINS: Set[str] = set()\n",
    "KNOWN_BAD_IPS: Set[str] = set()\n",
    "SUSPICIOUS_KEYWORDS: Set[str] = {\n",
    "    'urgent', 'password', 'invoice', 'payment', 'suspended', \n",
    "    'verify', 'action required', 'click here'\n",
    "}\n",
    "\n",
    "# --- Standard Incident Data Structure (for reference) ---\n",
    "def create_incident_alert(alert_id: str, source_ip: str, sender_domain: str, sender_email: str, subject: str, body: str) -> dict:\n",
    "    \"\"\"Creates a standardized incident alert dictionary for testing.\"\"\"\n",
    "    return {\n",
    "        \"alert_id\": alert_id,\n",
    "        \"source_ip\": source_ip,\n",
    "        \"sender_domain\": sender_domain,\n",
    "        \"sender_email\": sender_email,\n",
    "        \"subject\": subject,\n",
    "        \"body\": body,\n",
    "        \"triage_score\": 0,\n",
    "        \"triage_summary\": []\n",
    "    }"
   ]
  },
  {
   "cell_type": "code",
   "execution_count": 2,
   "id": "788c2c79",
   "metadata": {},
   "outputs": [],
   "source": [
    "# --- ACTIONABLE: This function fetches real-time threat intel. ---\n",
    "def fetch_threat_intel_list(url: str, comment_prefix: str = \"#\") -> Set[str]:\n",
    "    \"\"\"\n",
    "    Fetches a list of IoCs from a URL, ignoring comments.\n",
    "    \n",
    "    Args:\n",
    "        url (str): The URL of the threat intelligence feed.\n",
    "        comment_prefix (str): The character prefix for comment lines to ignore.\n",
    "\n",
    "    Returns:\n",
    "        Set[str]: A set of unique IoCs (domains, IPs, etc.).\n",
    "    \"\"\"\n",
    "    try:\n",
    "        response = requests.get(url, timeout=15)\n",
    "        response.raise_for_status()  # Raise an exception for bad status codes\n",
    "        \n",
    "        lines = response.text.splitlines()\n",
    "        ioc_list = {\n",
    "            line.strip() \n",
    "            for line in lines \n",
    "            if line.strip() and not line.startswith(comment_prefix)\n",
    "        }\n",
    "        print(f\"Successfully fetched {len(ioc_list)} IoCs from {url}\")\n",
    "        return ioc_list\n",
    "    except requests.exceptions.RequestException as e:\n",
    "        print(f\"Error fetching data from {url}: {e}\")\n",
    "        return set()"
   ]
  },
  {
   "cell_type": "code",
   "execution_count": 9,
   "id": "eda13fbc",
   "metadata": {},
   "outputs": [
    {
     "name": "stdout",
     "output_type": "stream",
     "text": [
      "Populating RECENT KNOWN_BAD_DOMAINS from abuse.ch...\n"
     ]
    },
    {
     "ename": "NameError",
     "evalue": "name 'sender_domain' is not defined",
     "output_type": "error",
     "traceback": [
      "\u001b[31m---------------------------------------------------------------------------\u001b[39m",
      "\u001b[31mNameError\u001b[39m                                 Traceback (most recent call last)",
      "\u001b[36mCell\u001b[39m\u001b[36m \u001b[39m\u001b[32mIn[9]\u001b[39m\u001b[32m, line 34\u001b[39m\n\u001b[32m     32\u001b[39m         \u001b[38;5;28mprint\u001b[39m(\u001b[33mf\u001b[39m\u001b[33m\"\u001b[39m\u001b[33mError querying URLhaus: \u001b[39m\u001b[38;5;132;01m{\u001b[39;00me\u001b[38;5;132;01m}\u001b[39;00m\u001b[33m\"\u001b[39m)\n\u001b[32m     33\u001b[39m \u001b[38;5;28mprint\u001b[39m(\u001b[33m\"\u001b[39m\u001b[33mPopulating RECENT KNOWN_BAD_DOMAINS from abuse.ch...\u001b[39m\u001b[33m\"\u001b[39m)\n\u001b[32m---> \u001b[39m\u001b[32m34\u001b[39m url_to_analyze = \u001b[43msender_domain\u001b[49m\n\u001b[32m     35\u001b[39m auth_key = os.getenv(\u001b[33m\"\u001b[39m\u001b[33mURLHAUS_AUTH_KEY\u001b[39m\u001b[33m\"\u001b[39m)\n\u001b[32m     37\u001b[39m \u001b[38;5;28;01mif\u001b[39;00m auth_key:\n",
      "\u001b[31mNameError\u001b[39m: name 'sender_domain' is not defined"
     ]
    }
   ],
   "source": [
    "# --- ACTIONABLE: Populate our threat intel lists from public feeds. ---\n",
    "import os\n",
    "import requests\n",
    "import json\n",
    "import sys\n",
    "def query_urlhaus(auth_key: str, url: str) -> None:\n",
    "    \"\"\"\n",
    "    Queries the URLhaus API for known bad domains related to a specific URL.\n",
    "    \n",
    "    Args:\n",
    "        auth_key (str): The API key for authentication.\n",
    "        url (str): The URL to analyze.\n",
    "    \"\"\"\n",
    "    api_url = f\"https://urlhaus.abuse.ch/api/v1/url/{url}\"\n",
    "    headers = {\n",
    "        \"Accept\": \"application/json\",\n",
    "        \"API-KEY\": auth_key\n",
    "    }\n",
    "    \n",
    "    try:\n",
    "        response = requests.get(api_url, headers=headers, timeout=15)\n",
    "        response.raise_for_status()\n",
    "        \n",
    "        data = response.json()\n",
    "        if data.get(\"success\"):\n",
    "            for entry in data.get(\"url_list\", []):\n",
    "                KNOWN_BAD_DOMAINS.add(entry['url'])\n",
    "            print(f\"Found {len(data.get('url_list', []))} known bad domains for {url}\")\n",
    "        else:\n",
    "            print(f\"No known bad domains found for {url}\")\n",
    "    except requests.exceptions.RequestException as e:\n",
    "        print(f\"Error querying URLhaus: {e}\")\n",
    "print(\"Populating RECENT KNOWN_BAD_DOMAINS from abuse.ch...\")\n",
    "url_to_analyze = sender_domain\n",
    "auth_key = os.getenv(\"URLHAUS_AUTH_KEY\")\n",
    "\n",
    "if auth_key:\n",
    "    query_urlhaus(auth_key, url_to_analyze)\n",
    "else:\n",
    "    print(\"API key is not available. Please set the environment variable.\")\n",
    "\n",
    "urlhaus_url = \"https://urlhaus.abuse.ch/downloads/hostnames/\"\n",
    "KNOWN_BAD_DOMAINS.update(fetch_threat_intel_list(urlhaus_url))\n",
    "\n",
    "print(\"\\nPopulating KNOWN_BAD_IPS from a placeholder feed...\")\n",
    "# You would replace this with a real feed URL for malicious IPs, e.g., from Spamhaus or SANS.\n",
    "dummy_ip_feed_url = \"http://localhost/ip_feed.txt\" # This will fail, as it's a dummy URL\n",
    "# KNOWN_BAD_IPS.update(fetch_threat_intel_list(dummy_ip_feed_url))\n",
    "\n",
    "# Print a sample to verify the data\n",
    "print(f\"\\nSample of KNOWN_BAD_DOMAINS ({len(KNOWN_BAD_DOMAINS)} total):\")\n",
    "print(list(KNOWN_BAD_DOMAINS)[:5])"
   ]
  },
  {
   "cell_type": "code",
   "execution_count": 8,
   "id": "8fc8a7e5",
   "metadata": {},
   "outputs": [],
   "source": [
    "# --- ACTIONABLE: This is the core logic of the playbook. ---\n",
    "def initial_phishing_triage(incident: dict) -> dict:\n",
    "    \"\"\"\n",
    "    Performs initial triage on a phishing-related incident using known IoCs.\n",
    "    \n",
    "    Args:\n",
    "        incident (dict): The incident alert to analyze.\n",
    "        \n",
    "    Returns:\n",
    "        dict: The updated incident dictionary with triage scores and summary.\n",
    "    \"\"\"\n",
    "    triage_score = 0\n",
    "    triage_summary = []\n",
    "    \n",
    "    # 1. Check against Known Bad Domains (MITRE ATT&CK T1566.001)\n",
    "    if incident['sender_domain'] in KNOWN_BAD_DOMAINS:\n",
    "        triage_score += 50\n",
    "        triage_summary.append(\"MATCH: Sender domain is a known bad domain.\")\n",
    "        \n",
    "    # 2. Check against Known Bad IPs (MITRE ATT&CK T1071.001)\n",
    "    if incident['source_ip'] in KNOWN_BAD_IPS:\n",
    "        triage_score += 30\n",
    "        triage_summary.append(\"MATCH: Source IP is a known malicious IP address.\")\n",
    "        \n",
    "    # 3. Check for suspicious keywords in subject and body\n",
    "    combined_text = incident['subject'] + \" \" + incident['body']\n",
    "    found_keywords = [kw for kw in SUSPICIOUS_KEYWORDS if kw in combined_text.lower()]\n",
    "    \n",
    "    if found_keywords:\n",
    "        triage_score += 10 * len(found_keywords)\n",
    "        triage_summary.append(f\"MATCH: Found suspicious keywords: {', '.join(found_keywords)}.\")\n",
    "        \n",
    "    # Set the final score and summary\n",
    "    incident['triage_score'] = triage_score\n",
    "    incident['triage_summary'] = triage_summary\n",
    "    \n",
    "    return incident"
   ]
  },
  {
   "cell_type": "code",
   "execution_count": 5,
   "id": "ce307a4a",
   "metadata": {},
   "outputs": [
    {
     "name": "stdout",
     "output_type": "stream",
     "text": [
      "New incident alert received:\n",
      "{'alert_id': 'PHISH-1002', 'source_ip': '1.2.3.4', 'sender_domain': 'fakewebsite-update.net', 'sender_email': 'noreply@fakewebsite-update.net', 'subject': 'ACTION REQUIRED: Your password has expired.', 'body': 'Please click the link below to verify your account.'}\n"
     ]
    }
   ],
   "source": [
    "# --- SIMULATED: This represents a real alert arriving from a security tool. ---\n",
    "phishing_alert = {\n",
    "    \"alert_id\": \"PHISH-1002\",\n",
    "    \"source_ip\": \"1.2.3.4\", # Placeholder IP\n",
    "    \"sender_domain\": \"fakewebsite-update.net\", # This will trigger a match with our mock list\n",
    "    \"sender_email\": \"noreply@fakewebsite-update.net\",\n",
    "    \"subject\": \"ACTION REQUIRED: Your password has expired.\",\n",
    "    \"body\": \"Please click the link below to verify your account.\"\n",
    "}\n",
    "\n",
    "print(\"New incident alert received:\")\n",
    "print(phishing_alert)"
   ]
  },
  {
   "cell_type": "code",
   "execution_count": 6,
   "id": "3316352a",
   "metadata": {},
   "outputs": [
    {
     "name": "stdout",
     "output_type": "stream",
     "text": [
      "\n",
      "--- Triage Results ---\n",
      "Incident ID: PHISH-1002\n",
      "Calculated Score: 30\n",
      "Severity Level: Medium\n",
      "MITRE ATT&CK Mapping: T1071.001 (Application Layer Protocol)\n",
      "Triage Summary:\n",
      "- MATCH: Found suspicious keywords: action required, verify, password.\n"
     ]
    }
   ],
   "source": [
    "# --- ACTIONABLE: Run the playbook and print the results. ---\n",
    "triage_result = initial_phishing_triage(phishing_alert)\n",
    "\n",
    "# Define severity thresholds\n",
    "if triage_result['triage_score'] >= 50:\n",
    "    severity = \"High\"\n",
    "    mitre_techniques = \"T1566.001 (Spearphishing Link)\"\n",
    "elif triage_result['triage_score'] >= 30:\n",
    "    severity = \"Medium\"\n",
    "    mitre_techniques = \"T1071.001 (Application Layer Protocol)\"\n",
    "else:\n",
    "    severity = \"Low\"\n",
    "    mitre_techniques = \"N/A\"\n",
    "    \n",
    "print(\"\\n--- Triage Results ---\")\n",
    "print(f\"Incident ID: {triage_result['alert_id']}\")\n",
    "print(f\"Calculated Score: {triage_result['triage_score']}\")\n",
    "print(f\"Severity Level: {severity}\")\n",
    "print(f\"MITRE ATT&CK Mapping: {mitre_techniques}\")\n",
    "print(\"Triage Summary:\")\n",
    "for entry in triage_result['triage_summary']:\n",
    "    print(f\"- {entry}\")\n",
    "\n",
    "if severity == \"High\":\n",
    "    print(\"\\nNext Action: This incident requires immediate containment. Proceed to blocking the domain and notifying the affected user.\")"
   ]
  }
 ],
 "metadata": {
  "kernelspec": {
   "display_name": "soc-env",
   "language": "python",
   "name": "python3"
  },
  "language_info": {
   "codemirror_mode": {
    "name": "ipython",
    "version": 3
   },
   "file_extension": ".py",
   "mimetype": "text/x-python",
   "name": "python",
   "nbconvert_exporter": "python",
   "pygments_lexer": "ipython3",
   "version": "3.11.9"
  }
 },
 "nbformat": 4,
 "nbformat_minor": 5
}
